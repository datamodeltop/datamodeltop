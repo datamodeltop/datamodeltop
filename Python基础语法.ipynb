{
 "cells": [
  {
   "cell_type": "markdown",
   "id": "570f1c56",
   "metadata": {},
   "source": [
    "交互解释器"
   ]
  },
  {
   "cell_type": "code",
   "execution_count": null,
   "id": "67ea5796",
   "metadata": {},
   "outputs": [],
   "source": [
    "print(\"Hello, world!\")"
   ]
  },
  {
   "cell_type": "markdown",
   "id": "b15c4ffc",
   "metadata": {},
   "source": [
    "数字和表达式"
   ]
  },
  {
   "cell_type": "code",
   "execution_count": null,
   "id": "6efb6b8c",
   "metadata": {},
   "outputs": [],
   "source": [
    "a = 1+1\n",
    "b = 1*1\n",
    "c = 1/1\n",
    "d = 1-1\n",
    "print(a,b,c,d)"
   ]
  },
  {
   "cell_type": "markdown",
   "id": "e2bc3b78",
   "metadata": {},
   "source": [
    "变量"
   ]
  },
  {
   "cell_type": "code",
   "execution_count": null,
   "id": "2f831df2",
   "metadata": {},
   "outputs": [],
   "source": [
    "x=3\n",
    "print(3)"
   ]
  },
  {
   "cell_type": "markdown",
   "id": "988da4d7",
   "metadata": {},
   "source": [
    "获取用户输入"
   ]
  },
  {
   "cell_type": "code",
   "execution_count": null,
   "id": "c27a15fd",
   "metadata": {},
   "outputs": [],
   "source": [
    "input(\"请输入:\")"
   ]
  },
  {
   "cell_type": "markdown",
   "id": "01369c69",
   "metadata": {},
   "source": [
    "函数"
   ]
  },
  {
   "cell_type": "code",
   "execution_count": null,
   "id": "281189a5",
   "metadata": {},
   "outputs": [],
   "source": [
    "pow(2,3)"
   ]
  },
  {
   "cell_type": "markdown",
   "id": "b14d8c3d",
   "metadata": {},
   "source": [
    "模块"
   ]
  },
  {
   "cell_type": "code",
   "execution_count": null,
   "id": "b5bc1637",
   "metadata": {},
   "outputs": [],
   "source": [
    "import math\n",
    "math.floor(123.456)"
   ]
  },
  {
   "cell_type": "markdown",
   "id": "1fbd7e08",
   "metadata": {},
   "source": [
    "字符串"
   ]
  },
  {
   "cell_type": "code",
   "execution_count": null,
   "id": "546a76a3",
   "metadata": {},
   "outputs": [],
   "source": [
    "\"asdf\"+\"1234\""
   ]
  },
  {
   "cell_type": "markdown",
   "id": "560c954d",
   "metadata": {},
   "source": [
    "长字符串"
   ]
  },
  {
   "cell_type": "code",
   "execution_count": null,
   "id": "51f7b694",
   "metadata": {},
   "outputs": [],
   "source": [
    "print('''asdfas\n",
    "safaseaefasdf''')"
   ]
  },
  {
   "cell_type": "code",
   "execution_count": null,
   "id": "9fe738ab",
   "metadata": {},
   "outputs": [],
   "source": []
  }
 ],
 "metadata": {
  "kernelspec": {
   "display_name": "Python 3 (ipykernel)",
   "language": "python",
   "name": "python3"
  },
  "language_info": {
   "codemirror_mode": {
    "name": "ipython",
    "version": 3
   },
   "file_extension": ".py",
   "mimetype": "text/x-python",
   "name": "python",
   "nbconvert_exporter": "python",
   "pygments_lexer": "ipython3",
   "version": "3.10.1"
  }
 },
 "nbformat": 4,
 "nbformat_minor": 5
}
