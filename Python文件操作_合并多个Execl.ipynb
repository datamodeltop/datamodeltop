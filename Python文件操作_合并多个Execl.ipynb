{
 "cells": [
  {
   "cell_type": "code",
   "execution_count": 6,
   "id": "12dfa5aa",
   "metadata": {},
   "outputs": [
    {
     "name": "stdout",
     "output_type": "stream",
     "text": [
      "DataX - 副本\n",
      "DataX\n"
     ]
    }
   ],
   "source": [
    "from pathlib import Path\n",
    "import pandas as pd\n",
    "path = Path(r\"C:\\Users\\Administrator\\Desktop\\hbys\")\n",
    "excel_data = [(i.stem, pd.read_excel(i)) for i in path.glob(\"*.xlsx\")]\n",
    "df_list = []\n",
    "for name, data in excel_data :\n",
    "    print(name)\n",
    "    data[\"来源\"] = name # df增加一列，存入数据所在的文件名\n",
    "    df_list.append(data)\n",
    "result = pd.concat(df_list, ignore_index=True)\n",
    "result.to_excel(path.joinpath(\"reslut.xlsx\"), encoding=\"utf-8\")\n"
   ]
  },
  {
   "cell_type": "code",
   "execution_count": null,
   "id": "5553e5e1",
   "metadata": {},
   "outputs": [],
   "source": []
  }
 ],
 "metadata": {
  "kernelspec": {
   "display_name": "Python 3 (ipykernel)",
   "language": "python",
   "name": "python3"
  },
  "language_info": {
   "codemirror_mode": {
    "name": "ipython",
    "version": 3
   },
   "file_extension": ".py",
   "mimetype": "text/x-python",
   "name": "python",
   "nbconvert_exporter": "python",
   "pygments_lexer": "ipython3",
   "version": "3.10.1"
  }
 },
 "nbformat": 4,
 "nbformat_minor": 5
}
