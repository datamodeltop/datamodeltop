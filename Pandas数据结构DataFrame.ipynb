{
 "cells": [
  {
   "cell_type": "markdown",
   "id": "85803c91",
   "metadata": {},
   "source": [
    "## 1.导入Python常用库"
   ]
  },
  {
   "cell_type": "code",
   "execution_count": 1,
   "id": "7f99feeb",
   "metadata": {},
   "outputs": [],
   "source": [
    "import pandas as pd\n",
    "import numpy as np"
   ]
  },
  {
   "cell_type": "markdown",
   "id": "5de12417",
   "metadata": {},
   "source": [
    "## 2.创建DataFrame对象"
   ]
  },
  {
   "cell_type": "code",
   "execution_count": null,
   "id": "202ad374",
   "metadata": {},
   "outputs": [],
   "source": []
  }
 ],
 "metadata": {
  "kernelspec": {
   "display_name": "Python 3 (ipykernel)",
   "language": "python",
   "name": "python3"
  },
  "language_info": {
   "codemirror_mode": {
    "name": "ipython",
    "version": 3
   },
   "file_extension": ".py",
   "mimetype": "text/x-python",
   "name": "python",
   "nbconvert_exporter": "python",
   "pygments_lexer": "ipython3",
   "version": "3.10.1"
  }
 },
 "nbformat": 4,
 "nbformat_minor": 5
}
