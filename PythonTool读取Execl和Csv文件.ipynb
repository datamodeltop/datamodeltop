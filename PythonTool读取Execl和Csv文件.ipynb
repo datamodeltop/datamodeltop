{
 "cells": [
  {
   "cell_type": "markdown",
   "id": "b8087f86",
   "metadata": {},
   "source": [
    "## 1.导入Python常用库"
   ]
  },
  {
   "cell_type": "code",
   "execution_count": 1,
   "id": "ccfc8075",
   "metadata": {},
   "outputs": [],
   "source": [
    "import pandas as pd\n",
    "import numpy as np"
   ]
  },
  {
   "cell_type": "markdown",
   "id": "dc3facbb",
   "metadata": {},
   "source": [
    "## 2.导入CSV文件"
   ]
  },
  {
   "cell_type": "code",
   "execution_count": 1,
   "id": "8cc7d5e8",
   "metadata": {},
   "outputs": [
    {
     "ename": "NameError",
     "evalue": "name 'read_csv' is not defined",
     "output_type": "error",
     "traceback": [
      "\u001b[1;31m---------------------------------------------------------------------------\u001b[0m",
      "\u001b[1;31mNameError\u001b[0m                                 Traceback (most recent call last)",
      "Input \u001b[1;32mIn [1]\u001b[0m, in \u001b[0;36m<cell line: 1>\u001b[1;34m()\u001b[0m\n\u001b[1;32m----> 1\u001b[0m \u001b[43mread_csv\u001b[49m\n",
      "\u001b[1;31mNameError\u001b[0m: name 'read_csv' is not defined"
     ]
    }
   ],
   "source": [
    "read_csv"
   ]
  },
  {
   "cell_type": "code",
   "execution_count": null,
   "id": "43c74dad",
   "metadata": {},
   "outputs": [],
   "source": []
  }
 ],
 "metadata": {
  "kernelspec": {
   "display_name": "Python 3 (ipykernel)",
   "language": "python",
   "name": "python3"
  },
  "language_info": {
   "codemirror_mode": {
    "name": "ipython",
    "version": 3
   },
   "file_extension": ".py",
   "mimetype": "text/x-python",
   "name": "python",
   "nbconvert_exporter": "python",
   "pygments_lexer": "ipython3",
   "version": "3.10.1"
  }
 },
 "nbformat": 4,
 "nbformat_minor": 5
}
